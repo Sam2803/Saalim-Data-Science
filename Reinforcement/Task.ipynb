{
 "cells": [
  {
   "cell_type": "code",
   "execution_count": 1,
   "id": "0dd1405c",
   "metadata": {
    "scrolled": true
   },
   "outputs": [],
   "source": [
    "# from openpyxl import Workbook\n",
    "# from datetime import datetime\n",
    "\n",
    "# def create_ticket(name, phone_number, email):\n",
    "#     try:\n",
    "#         wb = Workbook()\n",
    "#         sheet = wb.active\n",
    "#         sheet.title = \"Tickets\"\n",
    "#         sheet['A1'] = 'Name'\n",
    "#         sheet['B1'] = 'Phone Number'\n",
    "#         sheet['C1'] = 'Email'\n",
    "#         sheet.append([name, phone_number, email])\n",
    "        \n",
    "#         timestamp = datetime.now().strftime(\"%Y-%m-%d_%H-%M-%S\")\n",
    "#         file_name = \"TaskPython.xlsx\"\n",
    "#         wb.save(file_name)\n",
    "#         print(f\"Ticket created successfully! Details saved in '{file_name}'\")\n",
    "#     except Exception as e:\n",
    "#         print(f\"An error occurred: {e}\")\n",
    "\n",
    "# def get_user_input():\n",
    "#     name = input(\"Enter your name: \")\n",
    "#     phone_number = input(\"Enter your phone number: \")\n",
    "#     email = input(\"Enter your email: \")\n",
    "#     return name, phone_number, email\n",
    "\n",
    "# def main():\n",
    "#     name, phone_number, email = get_user_input()\n",
    "#     create_ticket(name, phone_number, email)\n",
    "\n",
    "# if __name__ == \"__main__\":\n",
    "#     main()"
   ]
  },
  {
   "cell_type": "code",
   "execution_count": null,
   "id": "5b0b1b88",
   "metadata": {},
   "outputs": [],
   "source": [
    "from openpyxl import load_workbook\n",
    "from datetime import datetime\n",
    "\n",
    "def add_ticket_to_excel(file_name, name, phone_number, email):\n",
    "    try:\n",
    "        wb = load_workbook(filename=file_name)\n",
    "        sheet = wb.active\n",
    "\n",
    "        # Append new data to the next empty row\n",
    "        next_row = sheet.max_row + 1\n",
    "        sheet[f'A{next_row}'] = name\n",
    "        sheet[f'B{next_row}'] = phone_number\n",
    "        sheet[f'C{next_row}'] = email\n",
    "        \n",
    "        wb.save(file_name)\n",
    "        print(f\"New ticket added successfully to '{file_name}'\")\n",
    "    except Exception as e:\n",
    "        print(f\"An error occurred: {e}\")\n",
    "\n",
    "# Usage example\n",
    "def main():\n",
    "    file_name = \"TaskPython.xlsx\"  \n",
    "    name = input(\"Enter name: \")\n",
    "    phone_number = input(\"Enter phone number: \")\n",
    "    email = input(\"Enter email: \")\n",
    "\n",
    "    add_ticket_to_excel(file_name, name, phone_number, email)\n",
    "\n",
    "if __name__ == \"__main__\":\n",
    "    main()"
   ]
  },
  {
   "cell_type": "code",
   "execution_count": null,
   "id": "6d4188b6",
   "metadata": {},
   "outputs": [],
   "source": [
    "main()"
   ]
  },
  {
   "cell_type": "code",
   "execution_count": null,
   "id": "72c0daa5",
   "metadata": {},
   "outputs": [],
   "source": []
  }
 ],
 "metadata": {
  "kernelspec": {
   "display_name": "Python 3 (ipykernel)",
   "language": "python",
   "name": "python3"
  },
  "language_info": {
   "codemirror_mode": {
    "name": "ipython",
    "version": 3
   },
   "file_extension": ".py",
   "mimetype": "text/x-python",
   "name": "python",
   "nbconvert_exporter": "python",
   "pygments_lexer": "ipython3",
   "version": "3.11.4"
  }
 },
 "nbformat": 4,
 "nbformat_minor": 5
}
